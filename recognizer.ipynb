{
 "cells": [
  {
   "cell_type": "code",
   "execution_count": 4,
   "metadata": {},
   "outputs": [],
   "source": [
    "import cv2\n",
    "import numpy as np\n",
    "import os"
   ]
  },
  {
   "cell_type": "code",
   "execution_count": 5,
   "metadata": {},
   "outputs": [],
   "source": [
    "face_cascade = cv2.CascadeClassifier(\"cascades/haarcascade_frontalface_default.xml\")"
   ]
  },
  {
   "cell_type": "code",
   "execution_count": 6,
   "metadata": {},
   "outputs": [],
   "source": [
    "faces = []\n",
    "face_labels = []\n",
    "\n",
    "base_dir = \"14-celebrity-faces-dataset/data/val\"\n",
    "\n",
    "for face_label in os.listdir(base_dir):\n",
    "    face_img_base_dir = f\"{base_dir}/{face_label}\"\n",
    "    for face_img_path in os.listdir(face_img_base_dir):\n",
    "\n",
    "        img = cv2.imread(f\"{face_img_base_dir}/{face_img_path}\")\n",
    "\n",
    "        gray = cv2.cvtColor(img, cv2.COLOR_BGR2GRAY)\n",
    "\n",
    "        faces_rect = face_cascade.detectMultiScale(gray, scaleFactor=1.2, minNeighbors=5)\n",
    "\n",
    "        for (x, y, w, h) in faces_rect:\n",
    "            face = gray[y:y+h, x:x+w]\n",
    "            faces.append(face)\n",
    "            face_labels.append(face_label)"
   ]
  },
  {
   "cell_type": "code",
   "execution_count": 7,
   "metadata": {},
   "outputs": [],
   "source": [
    "from sklearn.preprocessing import LabelEncoder\n",
    "\n",
    "encoder = LabelEncoder()\n",
    "\n",
    "face_labels_encoded = encoder.fit_transform(face_labels)"
   ]
  },
  {
   "cell_type": "code",
   "execution_count": 8,
   "metadata": {},
   "outputs": [],
   "source": [
    "recognizer = cv2.face.LBPHFaceRecognizer_create()\n",
    "\n",
    "recognizer.train(faces, np.array(face_labels_encoded))"
   ]
  },
  {
   "cell_type": "code",
   "execution_count": 12,
   "metadata": {},
   "outputs": [],
   "source": [
    "img_index = 0\n",
    "for test_img_path in os.listdir(\"test-faces\"):\n",
    "    test_img = cv2.imread(f\"test-faces/{test_img_path}\")\n",
    "    gray_test = cv2.cvtColor(test_img, cv2.COLOR_BGR2GRAY)\n",
    "\n",
    "    test_faces_rect = face_cascade.detectMultiScale(gray_test, scaleFactor=1.2, minNeighbors=5)\n",
    "\n",
    "    for (x, y, w, h) in test_faces_rect:\n",
    "        test_face = gray_test[y:y+h, x:x+w]\n",
    "        \n",
    "        label, confidence = recognizer.predict(test_face)\n",
    "\n",
    "        label_decoded = encoder.inverse_transform([label])\n",
    "\n",
    "        cv2.rectangle(test_img, (x, y), (x+w, y+h), (0, 255, 0), 2)\n",
    "        cv2.putText(test_img, label_decoded[0], (x, y-10), cv2.FONT_HERSHEY_SIMPLEX, 0.9, (0, 255, 0), 2)\n",
    "\n",
    "        cv2.imshow(f\"Result_{img_index}\", test_img)\n",
    "        img_index += 1\n",
    "\n",
    "cv2.waitKey(0)\n",
    "cv2.destroyAllWindows()"
   ]
  },
  {
   "cell_type": "code",
   "execution_count": null,
   "metadata": {},
   "outputs": [],
   "source": []
  }
 ],
 "metadata": {
  "kernelspec": {
   "display_name": ".venv",
   "language": "python",
   "name": "python3"
  },
  "language_info": {
   "codemirror_mode": {
    "name": "ipython",
    "version": 3
   },
   "file_extension": ".py",
   "mimetype": "text/x-python",
   "name": "python",
   "nbconvert_exporter": "python",
   "pygments_lexer": "ipython3",
   "version": "3.11.1"
  },
  "orig_nbformat": 4
 },
 "nbformat": 4,
 "nbformat_minor": 2
}
